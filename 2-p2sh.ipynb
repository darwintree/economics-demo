{
 "cells": [
  {
   "cell_type": "code",
   "execution_count": 12,
   "metadata": {},
   "outputs": [
    {
     "data": {
      "text/plain": [
       "'testnet'"
      ]
     },
     "execution_count": 12,
     "metadata": {},
     "output_type": "execute_result"
    }
   ],
   "source": [
    "# Copyright (C) 2018-2022 The python-bitcoin-utils developers\n",
    "#\n",
    "# This file is part of python-bitcoin-utils\n",
    "#\n",
    "# It is subject to the license terms in the LICENSE file found in the top-level\n",
    "# directory of this distribution.\n",
    "#\n",
    "# No part of python-bitcoin-utils, including this file, may be copied,\n",
    "# modified, propagated, or distributed except according to the terms contained\n",
    "# in the LICENSE file.\n",
    "\n",
    "\n",
    "from bitcoinutils.setup import setup\n",
    "from bitcoinutils.utils import to_satoshis\n",
    "from bitcoinutils.transactions import Transaction, TxInput, TxOutput\n",
    "from bitcoinutils.keys import P2pkhAddress, P2shAddress, PrivateKey\n",
    "from bitcoinutils.script import Script\n",
    "\n",
    "\n",
    "# always remember to setup the network\n",
    "setup('testnet')"
   ]
  },
  {
   "cell_type": "code",
   "execution_count": 13,
   "metadata": {},
   "outputs": [],
   "source": [
    "#\n",
    "# This script creates a P2SH address containing a P2PK script and sends\n",
    "# some funds to it\n",
    "#\n",
    "\n",
    "# create transaction input from tx id of UTXO (contained 0.1 tBTC)\n",
    "txin = TxInput('76464c2b9e2af4d63ef38a77964b3b77e629dddefc5cb9eb1a3645b1608b790f', 0)"
   ]
  },
  {
   "cell_type": "code",
   "execution_count": 14,
   "metadata": {},
   "outputs": [],
   "source": [
    "# address we are spending from\n",
    "from_addr = P2pkhAddress('n4bkvTyU1dVdzsrhWBqBw8fEMbHjJvtmJR')\n",
    "# secret key of address that we are trying to spent\n",
    "sk = PrivateKey('cTALNpTpRbbxTCJ2A5Vq88UxT44w1PE2cYqiB3n4hRvzyCev1Wwo')\n"
   ]
  },
  {
   "cell_type": "code",
   "execution_count": 15,
   "metadata": {},
   "outputs": [
    {
     "data": {
      "text/plain": [
       "{'amount': 9000000, 'script_pubkey': ['OP_HASH160', '2910fc0b1b7ab6c9789c5a67c22c5bcde5b90390', 'OP_EQUAL']}"
      ]
     },
     "execution_count": 15,
     "metadata": {},
     "output_type": "execute_result"
    }
   ],
   "source": [
    "# create transaction output using P2SH scriptPubKey (locking script)\n",
    "# (the recipient will give us the final address  but for now we create it\n",
    "# for demonstration purposes)\n",
    "#\n",
    "\n",
    "# secret key corresponding to the pubkey needed for the P2SH (P2PK) transaction\n",
    "p2pk_sk = PrivateKey('cRvyLwCPLU88jsyj94L7iJjQX5C2f8koG4G2gevN4BeSGcEvfKe9')\n",
    "p2pk_pk = p2pk_sk.get_public_key().to_hex()\n",
    "redeem_script = Script([p2pk_pk, 'OP_CHECKSIG'])\n",
    "txout = TxOutput(to_satoshis(0.09), redeem_script.to_p2sh_script_pub_key() )\n",
    "# no change address - the remaining 0.01 tBTC will go to miners)\n",
    "txout"
   ]
  },
  {
   "cell_type": "code",
   "execution_count": 16,
   "metadata": {},
   "outputs": [
    {
     "name": "stdout",
     "output_type": "stream",
     "text": [
      "\n",
      "Raw unsigned transaction:\n",
      "02000000010f798b60b145361aebb95cfcdedd29e6773b4b96778af33ed6f42a9e2b4c46760000000000ffffffff01405489000000000017a9142910fc0b1b7ab6c9789c5a67c22c5bcde5b903908700000000\n"
     ]
    }
   ],
   "source": [
    "# create transaction from inputs/outputs -- default locktime is used\n",
    "tx = Transaction([txin], [txout])\n",
    "\n",
    "# print raw transaction\n",
    "print(\"\\nRaw unsigned transaction:\\n\" + tx.serialize())"
   ]
  },
  {
   "cell_type": "code",
   "execution_count": 17,
   "metadata": {},
   "outputs": [
    {
     "data": {
      "text/plain": [
       "'304402206f4027d0a1720ea4cc68e1aa3cc2e0ca5996806971c0cd7d40d3aa4309d4761802206c5d9c0c26dec8edab91c1c3d64e46e4dd80d8da1787a9965ade2299b41c380301'"
      ]
     },
     "execution_count": 17,
     "metadata": {},
     "output_type": "execute_result"
    }
   ],
   "source": [
    "# use the private key corresponding to the address that contains the\n",
    "# UTXO we are trying to spend to create the signature for the txin\n",
    "sig = sk.sign_input(tx, 0, from_addr.to_script_pub_key() )\n",
    "sig"
   ]
  },
  {
   "cell_type": "code",
   "execution_count": 18,
   "metadata": {},
   "outputs": [
    {
     "data": {
      "text/plain": [
       "'02d82c9860e36f15d7b72aa59e29347f951277c21cd4d34822acdeeadbcff8a546'"
      ]
     },
     "execution_count": 18,
     "metadata": {},
     "output_type": "execute_result"
    }
   ],
   "source": [
    "# get public key as hex\n",
    "pk = sk.get_public_key()\n",
    "pk = pk.to_hex()\n",
    "pk"
   ]
  },
  {
   "cell_type": "code",
   "execution_count": 19,
   "metadata": {},
   "outputs": [
    {
     "name": "stdout",
     "output_type": "stream",
     "text": [
      "\n",
      "Raw signed transaction:\n",
      "02000000010f798b60b145361aebb95cfcdedd29e6773b4b96778af33ed6f42a9e2b4c4676000000006a47304402206f4027d0a1720ea4cc68e1aa3cc2e0ca5996806971c0cd7d40d3aa4309d4761802206c5d9c0c26dec8edab91c1c3d64e46e4dd80d8da1787a9965ade2299b41c3803012102d82c9860e36f15d7b72aa59e29347f951277c21cd4d34822acdeeadbcff8a546ffffffff01405489000000000017a9142910fc0b1b7ab6c9789c5a67c22c5bcde5b903908700000000\n",
      "\n",
      "TxId: 61a6765f7c43a5e74aa733d6210b9b696cfd96d6863e438e7e0d5380d5d2d9e0\n"
     ]
    }
   ],
   "source": [
    "# set the scriptSig (unlocking script)\n",
    "txin.script_sig = Script([sig, pk])\n",
    "signed_tx = tx.serialize()\n",
    "\n",
    "# print raw signed transaction ready to be broadcasted\n",
    "print(\"\\nRaw signed transaction:\\n\" + signed_tx)\n",
    "print(\"\\nTxId:\", tx.get_txid())"
   ]
  }
 ],
 "metadata": {
  "kernelspec": {
   "display_name": "bitcoin",
   "language": "python",
   "name": "python3"
  },
  "language_info": {
   "codemirror_mode": {
    "name": "ipython",
    "version": 3
   },
   "file_extension": ".py",
   "mimetype": "text/x-python",
   "name": "python",
   "nbconvert_exporter": "python",
   "pygments_lexer": "ipython3",
   "version": "3.10.9"
  },
  "orig_nbformat": 4
 },
 "nbformat": 4,
 "nbformat_minor": 2
}
