{
 "cells": [
  {
   "cell_type": "code",
   "execution_count": 1,
   "metadata": {},
   "outputs": [
    {
     "name": "stdout",
     "output_type": "stream",
     "text": [
      "<WalletKey(key_id=69, name=Multisig Key 68/52, wif=multisig-<Address(address=2NBrLTapyFqU4Wo29xG4QeEt8kn38KVWRRr)>, path=m/45'/0/0/0)>\n",
      "<WalletKey(key_id=73, name=Multisig Key 61/72, wif=multisig-<Address(address=2NBrLTapyFqU4Wo29xG4QeEt8kn38KVWRRr)>, path=m/45'/0/0/0)>\n"
     ]
    }
   ],
   "source": [
    "from typing import cast\n",
    "from bitcoinlib.wallets import Wallet, WalletError, wallet_delete_if_exists\n",
    "from bitcoinlib.keys import HDKey\n",
    "import random\n",
    "\n",
    "# Create a Multisig wallet with 2 cosigners which both need to sign a transaction.\n",
    "\n",
    "NETWORK = 'testnet'\n",
    "k1 = HDKey('tprv8ZgxMBicQKsPd1Q44tfDiZC98iYouKRC2CzjT3HGt1yYw2zuX2awTotzGAZQEAU9bi2M5MCj8iedP9MREPjUgpDEBwBgGi2C8eK'\n",
    "           '5zNYeiX8', network=NETWORK)\n",
    "k2 = HDKey('tprv8ZgxMBicQKsPeUbMS6kswJc11zgVEXUnUZuGo3bF6bBrAg1ieFfUdPc9UHqbD5HcXizThrcKike1c4z6xHrz6MWGwy8L6YKVbgJ'\n",
    "           'MeQHdWDp', network=NETWORK)\n",
    "\n",
    "wallet_delete_if_exists('multisig_2of2_cosigner1')\n",
    "wallet_delete_if_exists('multisig_2of2_cosigner2')\n",
    "\n",
    "w1 = cast(Wallet, Wallet.create('multisig_2of2_cosigner1', sigs_required=2,\n",
    "                    keys=[k1, k2.public_master(multisig=True)], network=NETWORK))\n",
    "\n",
    "w2 = cast(Wallet, Wallet.create('multisig_2of2_cosigner2',  sigs_required=2,\n",
    "                    keys=[k1.public_master(multisig=True), k2], network=NETWORK))\n",
    "\n",
    "print(w1.get_key())\n",
    "print(w2.get_key())"
   ]
  },
  {
   "cell_type": "code",
   "execution_count": 2,
   "metadata": {},
   "outputs": [
    {
     "name": "stdout",
     "output_type": "stream",
     "text": [
      "Deposit testnet bitcoin to this address to create transaction:  2NBrLTapyFqU4Wo29xG4QeEt8kn38KVWRRr\n"
     ]
    }
   ],
   "source": [
    "# An address starting with \"2\": a testnet p2sh address\n",
    "print(\"Deposit testnet bitcoin to this address to create transaction: \", w1.get_key().address)"
   ]
  },
  {
   "cell_type": "code",
   "execution_count": 3,
   "metadata": {},
   "outputs": [
    {
     "ename": "WalletError",
     "evalue": "Amount to send is smaller then dust amount: -125",
     "output_type": "error",
     "traceback": [
      "\u001b[0;31m---------------------------------------------------------------------------\u001b[0m",
      "\u001b[0;31mWalletError\u001b[0m                               Traceback (most recent call last)",
      "Cell \u001b[0;32mIn[3], line 6\u001b[0m\n\u001b[1;32m      3\u001b[0m w1\u001b[39m.\u001b[39mutxos_update()\n\u001b[1;32m      4\u001b[0m \u001b[39m# send from UTXO to 'mwCwTceJvYV27KXBc3NJZys6CjsgsoeHmf'\u001b[39;00m\n\u001b[1;32m      5\u001b[0m \u001b[39m# SHOULD send but there is not enough fee\u001b[39;00m\n\u001b[0;32m----> 6\u001b[0m t \u001b[39m=\u001b[39m w1\u001b[39m.\u001b[39;49msweep(\u001b[39m'\u001b[39;49m\u001b[39mmwCwTceJvYV27KXBc3NJZys6CjsgsoeHmf\u001b[39;49m\u001b[39m'\u001b[39;49m, min_confirms\u001b[39m=\u001b[39;49m\u001b[39m0\u001b[39;49m)\n\u001b[1;32m      7\u001b[0m t\u001b[39m.\u001b[39minfo()\n",
      "File \u001b[0;32m~/opt/miniconda3/envs/bitcoin/lib/python3.10/site-packages/bitcoinlib/wallets.py:4012\u001b[0m, in \u001b[0;36mWallet.sweep\u001b[0;34m(self, to_address, account_id, input_key_id, network, max_utxos, min_confirms, fee_per_kb, fee, locktime, offline)\u001b[0m\n\u001b[1;32m   4010\u001b[0m     fee \u001b[39m=\u001b[39m \u001b[39mint\u001b[39m((tr_size \u001b[39m/\u001b[39m \u001b[39m1000.0\u001b[39m) \u001b[39m*\u001b[39m fee_per_kb)\n\u001b[1;32m   4011\u001b[0m \u001b[39mif\u001b[39;00m total_amount \u001b[39m-\u001b[39m fee \u001b[39m<\u001b[39m\u001b[39m=\u001b[39m \u001b[39mself\u001b[39m\u001b[39m.\u001b[39mnetwork\u001b[39m.\u001b[39mdust_amount:\n\u001b[0;32m-> 4012\u001b[0m     \u001b[39mraise\u001b[39;00m WalletError(\u001b[39m\"\u001b[39m\u001b[39mAmount to send is smaller then dust amount: \u001b[39m\u001b[39m%s\u001b[39;00m\u001b[39m\"\u001b[39m \u001b[39m%\u001b[39m (total_amount \u001b[39m-\u001b[39m fee))\n\u001b[1;32m   4014\u001b[0m \u001b[39mif\u001b[39;00m \u001b[39misinstance\u001b[39m(to_address, \u001b[39mstr\u001b[39m):\n\u001b[1;32m   4015\u001b[0m     to_list \u001b[39m=\u001b[39m [(to_address, total_amount \u001b[39m-\u001b[39m fee)]\n",
      "\u001b[0;31mWalletError\u001b[0m: Amount to send is smaller then dust amount: -125"
     ]
    }
   ],
   "source": [
    "# Create a transaction in the first wallet\n",
    "\n",
    "w1.utxos_update()\n",
    "# send from UTXO to 'mwCwTceJvYV27KXBc3NJZys6CjsgsoeHmf'\n",
    "# SHOULD send but there is not enough fee\n",
    "t = w1.sweep('mwCwTceJvYV27KXBc3NJZys6CjsgsoeHmf', min_confirms=0)\n",
    "t.info()"
   ]
  },
  {
   "cell_type": "code",
   "execution_count": null,
   "metadata": {},
   "outputs": [],
   "source": [
    "# And then import the transaction in the second wallet, sign it and push it to the network\n",
    "\n",
    "# w2.get_key()\n",
    "t2 = w2.transaction_import(t)\n",
    "t2.sign()\n",
    "\n",
    "t2.send() # SHOULD send, but there is not enough fee\n",
    "t2.info()"
   ]
  }
 ],
 "metadata": {
  "kernelspec": {
   "display_name": "bitcoin",
   "language": "python",
   "name": "python3"
  },
  "language_info": {
   "codemirror_mode": {
    "name": "ipython",
    "version": 3
   },
   "file_extension": ".py",
   "mimetype": "text/x-python",
   "name": "python",
   "nbconvert_exporter": "python",
   "pygments_lexer": "ipython3",
   "version": "3.10.9"
  },
  "orig_nbformat": 4
 },
 "nbformat": 4,
 "nbformat_minor": 2
}
