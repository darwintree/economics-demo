{
 "cells": [
  {
   "cell_type": "code",
   "execution_count": 9,
   "metadata": {},
   "outputs": [
    {
     "data": {
      "text/plain": [
       "'mainnet'"
      ]
     },
     "execution_count": 9,
     "metadata": {},
     "output_type": "execute_result"
    }
   ],
   "source": [
    "from bitcoinutils.setup import setup\n",
    "from bitcoinutils.keys import P2pkhAddress, PrivateKey, PublicKey\n",
    "\n",
    "# always remember to setup the network\n",
    "setup('mainnet')"
   ]
  },
  {
   "cell_type": "code",
   "execution_count": 10,
   "metadata": {},
   "outputs": [
    {
     "name": "stdout",
     "output_type": "stream",
     "text": [
      "\n",
      "Private key WIF: KwDiBf89QgGbjEhKnhXJuH7LrciVrZi3qYjgd9M7rFU73sVHnoWn\n"
     ]
    }
   ],
   "source": [
    "# create a private key (deterministically)\n",
    "priv = PrivateKey(secret_exponent = 1)\n",
    "# compressed is the default\n",
    "print(\"\\nPrivate key WIF:\", priv.to_wif(compressed=True))\n",
    "\n",
    "# could also instantiate from existing WIF key\n",
    "#priv = PrivateKey.from_wif('KwDiBf89qGgbjEhKnhxjUh7LrciVRzI3qYjgd9m7Rfu73SvHnOwn')"
   ]
  },
  {
   "cell_type": "code",
   "execution_count": 11,
   "metadata": {},
   "outputs": [
    {
     "name": "stdout",
     "output_type": "stream",
     "text": [
      "Public key: 0279be667ef9dcbbac55a06295ce870b07029bfcdb2dce28d959f2815b16f81798\n"
     ]
    }
   ],
   "source": [
    "# get the public key\n",
    "pub = priv.get_public_key()\n",
    "\n",
    "# compressed is the default\n",
    "print(\"Public key:\", pub.to_hex(compressed=True))"
   ]
  },
  {
   "cell_type": "code",
   "execution_count": 12,
   "metadata": {},
   "outputs": [
    {
     "name": "stdout",
     "output_type": "stream",
     "text": [
      "Address: 1BgGZ9tcN4rm9KBzDn7KprQz87SZ26SAMH\n",
      "Hash160: 751e76e8199196d454941c45d1b3a323f1433bd6\n",
      "\n",
      "--------------------------------------\n",
      "\n"
     ]
    }
   ],
   "source": [
    "# get address from public key\n",
    "address = pub.get_address()\n",
    "\n",
    "# print the address and hash160 - default is compressed address\n",
    "print(\"Address:\", address.to_string())\n",
    "print(\"Hash160:\", address.to_hash160())\n",
    "\n",
    "print(\"\\n--------------------------------------\\n\")"
   ]
  },
  {
   "cell_type": "code",
   "execution_count": 13,
   "metadata": {},
   "outputs": [
    {
     "name": "stdout",
     "output_type": "stream",
     "text": [
      "The message to sign: The test!\n",
      "The signature is: IEiQ7kHfGqlxHSOcUftzR4gChjupJbuIIJCiY3LryQ9SXwPeRoBtJYkrNd/rgU7RP9jX6i2IaGGYMLt9bW+/bbI=\n"
     ]
    }
   ],
   "source": [
    "# sign a message with the private key and verify it\n",
    "message = \"The test!\"\n",
    "signature = priv.sign_message(message)\n",
    "print(\"The message to sign:\", message)\n",
    "print(\"The signature is:\", signature)"
   ]
  },
  {
   "cell_type": "code",
   "execution_count": 14,
   "metadata": {},
   "outputs": [
    {
     "name": "stdout",
     "output_type": "stream",
     "text": [
      "The signature is valid!\n"
     ]
    }
   ],
   "source": [
    "if PublicKey.verify_message(address.to_string(), signature, message):\n",
    "    print(\"The signature is valid!\")\n",
    "else:\n",
    "    print(\"The signature is NOT valid!\")"
   ]
  }
 ],
 "metadata": {
  "kernelspec": {
   "display_name": "bitcoin",
   "language": "python",
   "name": "python3"
  },
  "language_info": {
   "codemirror_mode": {
    "name": "ipython",
    "version": 3
   },
   "file_extension": ".py",
   "mimetype": "text/x-python",
   "name": "python",
   "nbconvert_exporter": "python",
   "pygments_lexer": "ipython3",
   "version": "3.10.9"
  },
  "orig_nbformat": 4
 },
 "nbformat": 4,
 "nbformat_minor": 2
}
